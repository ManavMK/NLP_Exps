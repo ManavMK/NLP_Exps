{
  "cells": [
    {
      "cell_type": "markdown",
      "id": "excessive-adrian",
      "metadata": {
        "id": "excessive-adrian"
      },
      "source": [
        "Experiment 02"
      ]
    },
    {
      "cell_type": "code",
      "execution_count": null,
      "metadata": {},
      "outputs": [],
      "source": []
    },
    {
      "cell_type": "markdown",
      "id": "regular-fellow",
      "metadata": {
        "id": "regular-fellow"
      },
      "source": [
        "### Library required for Preprocessing"
      ]
    },
    {
      "cell_type": "code",
      "execution_count": null,
      "id": "million-methodology",
      "metadata": {
        "colab": {
          "base_uri": "https://localhost:8080/"
        },
        "id": "million-methodology",
        "outputId": "229f2fff-91d7-481e-c8b9-29663a4e75ca"
      },
      "outputs": [
        {
          "name": "stdout",
          "output_type": "stream",
          "text": [
            "Requirement already satisfied: nltk in /usr/local/lib/python3.10/dist-packages (3.8.1)\n",
            "Requirement already satisfied: click in /usr/local/lib/python3.10/dist-packages (from nltk) (8.1.6)\n",
            "Requirement already satisfied: joblib in /usr/local/lib/python3.10/dist-packages (from nltk) (1.3.2)\n",
            "Requirement already satisfied: regex>=2021.8.3 in /usr/local/lib/python3.10/dist-packages (from nltk) (2023.6.3)\n",
            "Requirement already satisfied: tqdm in /usr/local/lib/python3.10/dist-packages (from nltk) (4.66.1)\n"
          ]
        }
      ],
      "source": [
        "!pip install nltk"
      ]
    },
    {
      "cell_type": "code",
      "execution_count": null,
      "id": "alien-breathing",
      "metadata": {
        "id": "alien-breathing"
      },
      "outputs": [],
      "source": [
        "import nltk"
      ]
    },
    {
      "cell_type": "code",
      "execution_count": null,
      "id": "juvenile-powder",
      "metadata": {
        "colab": {
          "base_uri": "https://localhost:8080/",
          "height": 390
        },
        "id": "juvenile-powder",
        "outputId": "b7535e1e-9e6f-4b13-be1a-28d28bcd4b33"
      },
      "outputs": [
        {
          "name": "stdout",
          "output_type": "stream",
          "text": [
            "NLTK Downloader\n",
            "---------------------------------------------------------------------------\n",
            "    d) Download   l) List    u) Update   c) Config   h) Help   q) Quit\n",
            "---------------------------------------------------------------------------\n"
          ]
        },
        {
          "ename": "KeyboardInterrupt",
          "evalue": "ignored",
          "output_type": "error",
          "traceback": [
            "\u001b[0;31m---------------------------------------------------------------------------\u001b[0m",
            "\u001b[0;31mKeyboardInterrupt\u001b[0m                         Traceback (most recent call last)",
            "\u001b[0;32m<ipython-input-27-6e230a00a763>\u001b[0m in \u001b[0;36m<cell line: 1>\u001b[0;34m()\u001b[0m\n\u001b[0;32m----> 1\u001b[0;31m \u001b[0mnltk\u001b[0m\u001b[0;34m.\u001b[0m\u001b[0mdownload\u001b[0m\u001b[0;34m(\u001b[0m\u001b[0;34m)\u001b[0m\u001b[0;34m\u001b[0m\u001b[0;34m\u001b[0m\u001b[0m\n\u001b[0m",
            "\u001b[0;32m/usr/local/lib/python3.10/dist-packages/nltk/downloader.py\u001b[0m in \u001b[0;36mdownload\u001b[0;34m(self, info_or_id, download_dir, quiet, force, prefix, halt_on_error, raise_on_error, print_error_to)\u001b[0m\n\u001b[1;32m    761\u001b[0m             \u001b[0;32mif\u001b[0m \u001b[0mdownload_dir\u001b[0m \u001b[0;32mis\u001b[0m \u001b[0;32mnot\u001b[0m \u001b[0;32mNone\u001b[0m\u001b[0;34m:\u001b[0m\u001b[0;34m\u001b[0m\u001b[0;34m\u001b[0m\u001b[0m\n\u001b[1;32m    762\u001b[0m                 \u001b[0mself\u001b[0m\u001b[0;34m.\u001b[0m\u001b[0m_download_dir\u001b[0m \u001b[0;34m=\u001b[0m \u001b[0mdownload_dir\u001b[0m\u001b[0;34m\u001b[0m\u001b[0;34m\u001b[0m\u001b[0m\n\u001b[0;32m--> 763\u001b[0;31m             \u001b[0mself\u001b[0m\u001b[0;34m.\u001b[0m\u001b[0m_interactive_download\u001b[0m\u001b[0;34m(\u001b[0m\u001b[0;34m)\u001b[0m\u001b[0;34m\u001b[0m\u001b[0;34m\u001b[0m\u001b[0m\n\u001b[0m\u001b[1;32m    764\u001b[0m             \u001b[0;32mreturn\u001b[0m \u001b[0;32mTrue\u001b[0m\u001b[0;34m\u001b[0m\u001b[0;34m\u001b[0m\u001b[0m\n\u001b[1;32m    765\u001b[0m \u001b[0;34m\u001b[0m\u001b[0m\n",
            "\u001b[0;32m/usr/local/lib/python3.10/dist-packages/nltk/downloader.py\u001b[0m in \u001b[0;36m_interactive_download\u001b[0;34m(self)\u001b[0m\n\u001b[1;32m   1113\u001b[0m                 \u001b[0mDownloaderGUI\u001b[0m\u001b[0;34m(\u001b[0m\u001b[0mself\u001b[0m\u001b[0;34m)\u001b[0m\u001b[0;34m.\u001b[0m\u001b[0mmainloop\u001b[0m\u001b[0;34m(\u001b[0m\u001b[0;34m)\u001b[0m\u001b[0;34m\u001b[0m\u001b[0;34m\u001b[0m\u001b[0m\n\u001b[1;32m   1114\u001b[0m             \u001b[0;32mexcept\u001b[0m \u001b[0mTclError\u001b[0m\u001b[0;34m:\u001b[0m\u001b[0;34m\u001b[0m\u001b[0;34m\u001b[0m\u001b[0m\n\u001b[0;32m-> 1115\u001b[0;31m                 \u001b[0mDownloaderShell\u001b[0m\u001b[0;34m(\u001b[0m\u001b[0mself\u001b[0m\u001b[0;34m)\u001b[0m\u001b[0;34m.\u001b[0m\u001b[0mrun\u001b[0m\u001b[0;34m(\u001b[0m\u001b[0;34m)\u001b[0m\u001b[0;34m\u001b[0m\u001b[0;34m\u001b[0m\u001b[0m\n\u001b[0m\u001b[1;32m   1116\u001b[0m         \u001b[0;32melse\u001b[0m\u001b[0;34m:\u001b[0m\u001b[0;34m\u001b[0m\u001b[0;34m\u001b[0m\u001b[0m\n\u001b[1;32m   1117\u001b[0m             \u001b[0mDownloaderShell\u001b[0m\u001b[0;34m(\u001b[0m\u001b[0mself\u001b[0m\u001b[0;34m)\u001b[0m\u001b[0;34m.\u001b[0m\u001b[0mrun\u001b[0m\u001b[0;34m(\u001b[0m\u001b[0;34m)\u001b[0m\u001b[0;34m\u001b[0m\u001b[0;34m\u001b[0m\u001b[0m\n",
            "\u001b[0;32m/usr/local/lib/python3.10/dist-packages/nltk/downloader.py\u001b[0m in \u001b[0;36mrun\u001b[0;34m(self)\u001b[0m\n\u001b[1;32m   1139\u001b[0m                 \u001b[0;34m\"q) Quit\"\u001b[0m\u001b[0;34m,\u001b[0m\u001b[0;34m\u001b[0m\u001b[0;34m\u001b[0m\u001b[0m\n\u001b[1;32m   1140\u001b[0m             )\n\u001b[0;32m-> 1141\u001b[0;31m             \u001b[0muser_input\u001b[0m \u001b[0;34m=\u001b[0m \u001b[0minput\u001b[0m\u001b[0;34m(\u001b[0m\u001b[0;34m\"Downloader> \"\u001b[0m\u001b[0;34m)\u001b[0m\u001b[0;34m.\u001b[0m\u001b[0mstrip\u001b[0m\u001b[0;34m(\u001b[0m\u001b[0;34m)\u001b[0m\u001b[0;34m\u001b[0m\u001b[0;34m\u001b[0m\u001b[0m\n\u001b[0m\u001b[1;32m   1142\u001b[0m             \u001b[0;32mif\u001b[0m \u001b[0;32mnot\u001b[0m \u001b[0muser_input\u001b[0m\u001b[0;34m:\u001b[0m\u001b[0;34m\u001b[0m\u001b[0;34m\u001b[0m\u001b[0m\n\u001b[1;32m   1143\u001b[0m                 \u001b[0mprint\u001b[0m\u001b[0;34m(\u001b[0m\u001b[0;34m)\u001b[0m\u001b[0;34m\u001b[0m\u001b[0;34m\u001b[0m\u001b[0m\n",
            "\u001b[0;32m/usr/local/lib/python3.10/dist-packages/ipykernel/kernelbase.py\u001b[0m in \u001b[0;36mraw_input\u001b[0;34m(self, prompt)\u001b[0m\n\u001b[1;32m    849\u001b[0m                 \u001b[0;34m\"raw_input was called, but this frontend does not support input requests.\"\u001b[0m\u001b[0;34m\u001b[0m\u001b[0;34m\u001b[0m\u001b[0m\n\u001b[1;32m    850\u001b[0m             )\n\u001b[0;32m--> 851\u001b[0;31m         return self._input_request(str(prompt),\n\u001b[0m\u001b[1;32m    852\u001b[0m             \u001b[0mself\u001b[0m\u001b[0;34m.\u001b[0m\u001b[0m_parent_ident\u001b[0m\u001b[0;34m,\u001b[0m\u001b[0;34m\u001b[0m\u001b[0;34m\u001b[0m\u001b[0m\n\u001b[1;32m    853\u001b[0m             \u001b[0mself\u001b[0m\u001b[0;34m.\u001b[0m\u001b[0m_parent_header\u001b[0m\u001b[0;34m,\u001b[0m\u001b[0;34m\u001b[0m\u001b[0;34m\u001b[0m\u001b[0m\n",
            "\u001b[0;32m/usr/local/lib/python3.10/dist-packages/ipykernel/kernelbase.py\u001b[0m in \u001b[0;36m_input_request\u001b[0;34m(self, prompt, ident, parent, password)\u001b[0m\n\u001b[1;32m    893\u001b[0m             \u001b[0;32mexcept\u001b[0m \u001b[0mKeyboardInterrupt\u001b[0m\u001b[0;34m:\u001b[0m\u001b[0;34m\u001b[0m\u001b[0;34m\u001b[0m\u001b[0m\n\u001b[1;32m    894\u001b[0m                 \u001b[0;31m# re-raise KeyboardInterrupt, to truncate traceback\u001b[0m\u001b[0;34m\u001b[0m\u001b[0;34m\u001b[0m\u001b[0m\n\u001b[0;32m--> 895\u001b[0;31m                 \u001b[0;32mraise\u001b[0m \u001b[0mKeyboardInterrupt\u001b[0m\u001b[0;34m(\u001b[0m\u001b[0;34m\"Interrupted by user\"\u001b[0m\u001b[0;34m)\u001b[0m \u001b[0;32mfrom\u001b[0m \u001b[0;32mNone\u001b[0m\u001b[0;34m\u001b[0m\u001b[0;34m\u001b[0m\u001b[0m\n\u001b[0m\u001b[1;32m    896\u001b[0m             \u001b[0;32mexcept\u001b[0m \u001b[0mException\u001b[0m \u001b[0;32mas\u001b[0m \u001b[0me\u001b[0m\u001b[0;34m:\u001b[0m\u001b[0;34m\u001b[0m\u001b[0;34m\u001b[0m\u001b[0m\n\u001b[1;32m    897\u001b[0m                 \u001b[0mself\u001b[0m\u001b[0;34m.\u001b[0m\u001b[0mlog\u001b[0m\u001b[0;34m.\u001b[0m\u001b[0mwarning\u001b[0m\u001b[0;34m(\u001b[0m\u001b[0;34m\"Invalid Message:\"\u001b[0m\u001b[0;34m,\u001b[0m \u001b[0mexc_info\u001b[0m\u001b[0;34m=\u001b[0m\u001b[0;32mTrue\u001b[0m\u001b[0;34m)\u001b[0m\u001b[0;34m\u001b[0m\u001b[0;34m\u001b[0m\u001b[0m\n",
            "\u001b[0;31mKeyboardInterrupt\u001b[0m: Interrupted by user"
          ]
        }
      ],
      "source": [
        "nltk.download()"
      ]
    },
    {
      "cell_type": "markdown",
      "id": "funded-pontiac",
      "metadata": {
        "id": "funded-pontiac"
      },
      "source": [
        "### Sentence Tokenization"
      ]
    },
    {
      "cell_type": "code",
      "execution_count": null,
      "id": "offshore-contrast",
      "metadata": {
        "id": "offshore-contrast"
      },
      "outputs": [],
      "source": [
        "from nltk.tokenize import sent_tokenize"
      ]
    },
    {
      "cell_type": "code",
      "execution_count": null,
      "id": "tested-portable",
      "metadata": {
        "id": "tested-portable"
      },
      "outputs": [],
      "source": [
        "\n",
        "text = '''Stephenson 2-18 is now known as being one of the largest, if not the current largest star ever discovered, surpassing other stars like VY Canis Majoris and UY Scuti.\n",
        "        Stephenson 2-18 has a radius of 2,150 solar radii, being larger than almost the entire orbit of Saturn (1,940 - 2,169 solar radii).'''"
      ]
    },
    {
      "cell_type": "code",
      "execution_count": null,
      "id": "handmade-wedding",
      "metadata": {
        "colab": {
          "base_uri": "https://localhost:8080/",
          "height": 53
        },
        "id": "handmade-wedding",
        "outputId": "8e33eaf6-a5f0-4a96-a87d-0042eb66f27f"
      },
      "outputs": [
        {
          "data": {
            "application/vnd.google.colaboratory.intrinsic+json": {
              "type": "string"
            },
            "text/plain": [
              "'Stephenson 2-18 is now known as being one of the largest, if not the current largest star ever discovered, surpassing other stars like VY Canis Majoris and UY Scuti.\\n        Stephenson 2-18 has a radius of 2,150 solar radii, being larger than almost the entire orbit of Saturn (1,940 - 2,169 solar radii).'"
            ]
          },
          "execution_count": 14,
          "metadata": {},
          "output_type": "execute_result"
        }
      ],
      "source": [
        "text"
      ]
    },
    {
      "cell_type": "code",
      "execution_count": null,
      "id": "curious-legislature",
      "metadata": {
        "id": "curious-legislature"
      },
      "outputs": [],
      "source": [
        "sentences = sent_tokenize (text)"
      ]
    },
    {
      "cell_type": "code",
      "execution_count": null,
      "id": "bored-narrative",
      "metadata": {
        "colab": {
          "base_uri": "https://localhost:8080/"
        },
        "id": "bored-narrative",
        "outputId": "6def9be9-2330-4c2a-92c0-b2dc998da7de"
      },
      "outputs": [
        {
          "data": {
            "text/plain": [
              "['Stephenson 2-18 is now known as being one of the largest, if not the current largest star ever discovered, surpassing other stars like VY Canis Majoris and UY Scuti.',\n",
              " 'Stephenson 2-18 has a radius of 2,150 solar radii, being larger than almost the entire orbit of Saturn (1,940 - 2,169 solar radii).']"
            ]
          },
          "execution_count": 16,
          "metadata": {},
          "output_type": "execute_result"
        }
      ],
      "source": [
        "sentences"
      ]
    },
    {
      "cell_type": "markdown",
      "id": "suitable-franchise",
      "metadata": {
        "id": "suitable-franchise"
      },
      "source": [
        "### Word Tokenization"
      ]
    },
    {
      "cell_type": "code",
      "execution_count": null,
      "id": "alien-basin",
      "metadata": {
        "id": "alien-basin"
      },
      "outputs": [],
      "source": [
        "from nltk.tokenize import word_tokenize"
      ]
    },
    {
      "cell_type": "code",
      "execution_count": null,
      "id": "innovative-hayes",
      "metadata": {
        "id": "innovative-hayes"
      },
      "outputs": [],
      "source": [
        "words = word_tokenize (text)"
      ]
    },
    {
      "cell_type": "code",
      "execution_count": null,
      "id": "sporting-medicare",
      "metadata": {
        "colab": {
          "base_uri": "https://localhost:8080/"
        },
        "id": "sporting-medicare",
        "outputId": "66dd2c83-cd85-42a8-f62a-6890d227c1bf"
      },
      "outputs": [
        {
          "data": {
            "text/plain": [
              "['Stephenson',\n",
              " '2-18',\n",
              " 'is',\n",
              " 'now',\n",
              " 'known',\n",
              " 'as',\n",
              " 'being',\n",
              " 'one',\n",
              " 'of',\n",
              " 'the',\n",
              " 'largest',\n",
              " ',',\n",
              " 'if',\n",
              " 'not',\n",
              " 'the',\n",
              " 'current',\n",
              " 'largest',\n",
              " 'star',\n",
              " 'ever',\n",
              " 'discovered',\n",
              " ',',\n",
              " 'surpassing',\n",
              " 'other',\n",
              " 'stars',\n",
              " 'like',\n",
              " 'VY',\n",
              " 'Canis',\n",
              " 'Majoris',\n",
              " 'and',\n",
              " 'UY',\n",
              " 'Scuti',\n",
              " '.',\n",
              " 'Stephenson',\n",
              " '2-18',\n",
              " 'has',\n",
              " 'a',\n",
              " 'radius',\n",
              " 'of',\n",
              " '2,150',\n",
              " 'solar',\n",
              " 'radii',\n",
              " ',',\n",
              " 'being',\n",
              " 'larger',\n",
              " 'than',\n",
              " 'almost',\n",
              " 'the',\n",
              " 'entire',\n",
              " 'orbit',\n",
              " 'of',\n",
              " 'Saturn',\n",
              " '(',\n",
              " '1,940',\n",
              " '-',\n",
              " '2,169',\n",
              " 'solar',\n",
              " 'radii',\n",
              " ')',\n",
              " '.']"
            ]
          },
          "execution_count": 19,
          "metadata": {},
          "output_type": "execute_result"
        }
      ],
      "source": [
        "words"
      ]
    },
    {
      "cell_type": "code",
      "execution_count": null,
      "id": "hybrid-motivation",
      "metadata": {
        "colab": {
          "base_uri": "https://localhost:8080/"
        },
        "id": "hybrid-motivation",
        "outputId": "54212496-274c-4ab3-82de-d1b9a3a6c9a7"
      },
      "outputs": [
        {
          "name": "stdout",
          "output_type": "stream",
          "text": [
            "Stephenson\n",
            "2-18\n",
            "is\n",
            "now\n",
            "known\n",
            "as\n",
            "being\n",
            "one\n",
            "of\n",
            "the\n",
            "largest\n",
            ",\n",
            "if\n",
            "not\n",
            "the\n",
            "current\n",
            "largest\n",
            "star\n",
            "ever\n",
            "discovered\n",
            ",\n",
            "surpassing\n",
            "other\n",
            "stars\n",
            "like\n",
            "VY\n",
            "Canis\n",
            "Majoris\n",
            "and\n",
            "UY\n",
            "Scuti\n",
            ".\n",
            "Stephenson\n",
            "2-18\n",
            "has\n",
            "a\n",
            "radius\n",
            "of\n",
            "2,150\n",
            "solar\n",
            "radii\n",
            ",\n",
            "being\n",
            "larger\n",
            "than\n",
            "almost\n",
            "the\n",
            "entire\n",
            "orbit\n",
            "of\n",
            "Saturn\n",
            "(\n",
            "1,940\n",
            "-\n",
            "2,169\n",
            "solar\n",
            "radii\n",
            ")\n",
            ".\n"
          ]
        }
      ],
      "source": [
        "for w in words:\n",
        "    print (w)"
      ]
    },
    {
      "cell_type": "markdown",
      "id": "related-submission",
      "metadata": {
        "id": "related-submission"
      },
      "source": [
        "### Levels of Sentences Tokenization using Comprehension"
      ]
    },
    {
      "cell_type": "code",
      "execution_count": null,
      "id": "german-vintage",
      "metadata": {
        "colab": {
          "base_uri": "https://localhost:8080/"
        },
        "id": "german-vintage",
        "outputId": "4af2e48b-aa42-4e66-99e8-5f6ef5876d8b"
      },
      "outputs": [
        {
          "data": {
            "text/plain": [
              "['Stephenson 2-18 is now known as being one of the largest, if not the current largest star ever discovered, surpassing other stars like VY Canis Majoris and UY Scuti.',\n",
              " 'Stephenson 2-18 has a radius of 2,150 solar radii, being larger than almost the entire orbit of Saturn (1,940 - 2,169 solar radii).']"
            ]
          },
          "execution_count": 21,
          "metadata": {},
          "output_type": "execute_result"
        }
      ],
      "source": [
        "sent_tokenize (text)"
      ]
    },
    {
      "cell_type": "code",
      "execution_count": null,
      "id": "cardiovascular-hazard",
      "metadata": {
        "colab": {
          "base_uri": "https://localhost:8080/"
        },
        "id": "cardiovascular-hazard",
        "outputId": "587ed92f-951c-4b6d-db38-3601eaed127e"
      },
      "outputs": [
        {
          "data": {
            "text/plain": [
              "[['Stephenson',\n",
              "  '2-18',\n",
              "  'is',\n",
              "  'now',\n",
              "  'known',\n",
              "  'as',\n",
              "  'being',\n",
              "  'one',\n",
              "  'of',\n",
              "  'the',\n",
              "  'largest',\n",
              "  ',',\n",
              "  'if',\n",
              "  'not',\n",
              "  'the',\n",
              "  'current',\n",
              "  'largest',\n",
              "  'star',\n",
              "  'ever',\n",
              "  'discovered',\n",
              "  ',',\n",
              "  'surpassing',\n",
              "  'other',\n",
              "  'stars',\n",
              "  'like',\n",
              "  'VY',\n",
              "  'Canis',\n",
              "  'Majoris',\n",
              "  'and',\n",
              "  'UY',\n",
              "  'Scuti',\n",
              "  '.',\n",
              "  'Stephenson',\n",
              "  '2-18',\n",
              "  'has',\n",
              "  'a',\n",
              "  'radius',\n",
              "  'of',\n",
              "  '2,150',\n",
              "  'solar',\n",
              "  'radii',\n",
              "  ',',\n",
              "  'being',\n",
              "  'larger',\n",
              "  'than',\n",
              "  'almost',\n",
              "  'the',\n",
              "  'entire',\n",
              "  'orbit',\n",
              "  'of',\n",
              "  'Saturn',\n",
              "  '(',\n",
              "  '1,940',\n",
              "  '-',\n",
              "  '2,169',\n",
              "  'solar',\n",
              "  'radii',\n",
              "  ')',\n",
              "  '.'],\n",
              " ['Stephenson',\n",
              "  '2-18',\n",
              "  'is',\n",
              "  'now',\n",
              "  'known',\n",
              "  'as',\n",
              "  'being',\n",
              "  'one',\n",
              "  'of',\n",
              "  'the',\n",
              "  'largest',\n",
              "  ',',\n",
              "  'if',\n",
              "  'not',\n",
              "  'the',\n",
              "  'current',\n",
              "  'largest',\n",
              "  'star',\n",
              "  'ever',\n",
              "  'discovered',\n",
              "  ',',\n",
              "  'surpassing',\n",
              "  'other',\n",
              "  'stars',\n",
              "  'like',\n",
              "  'VY',\n",
              "  'Canis',\n",
              "  'Majoris',\n",
              "  'and',\n",
              "  'UY',\n",
              "  'Scuti',\n",
              "  '.',\n",
              "  'Stephenson',\n",
              "  '2-18',\n",
              "  'has',\n",
              "  'a',\n",
              "  'radius',\n",
              "  'of',\n",
              "  '2,150',\n",
              "  'solar',\n",
              "  'radii',\n",
              "  ',',\n",
              "  'being',\n",
              "  'larger',\n",
              "  'than',\n",
              "  'almost',\n",
              "  'the',\n",
              "  'entire',\n",
              "  'orbit',\n",
              "  'of',\n",
              "  'Saturn',\n",
              "  '(',\n",
              "  '1,940',\n",
              "  '-',\n",
              "  '2,169',\n",
              "  'solar',\n",
              "  'radii',\n",
              "  ')',\n",
              "  '.']]"
            ]
          },
          "execution_count": 22,
          "metadata": {},
          "output_type": "execute_result"
        }
      ],
      "source": [
        "[word_tokenize (text) for t in sent_tokenize(text)]"
      ]
    },
    {
      "cell_type": "code",
      "execution_count": null,
      "id": "saving-trade",
      "metadata": {
        "id": "saving-trade"
      },
      "outputs": [],
      "source": [
        "from nltk.tokenize import wordpunct_tokenize"
      ]
    },
    {
      "cell_type": "code",
      "execution_count": null,
      "id": "decimal-presence",
      "metadata": {
        "colab": {
          "base_uri": "https://localhost:8080/"
        },
        "id": "decimal-presence",
        "outputId": "2d1ffda6-b83e-41aa-decf-07e6dc4c538a"
      },
      "outputs": [
        {
          "data": {
            "text/plain": [
              "['Stephenson',\n",
              " '2',\n",
              " '-',\n",
              " '18',\n",
              " 'is',\n",
              " 'now',\n",
              " 'known',\n",
              " 'as',\n",
              " 'being',\n",
              " 'one',\n",
              " 'of',\n",
              " 'the',\n",
              " 'largest',\n",
              " ',',\n",
              " 'if',\n",
              " 'not',\n",
              " 'the',\n",
              " 'current',\n",
              " 'largest',\n",
              " 'star',\n",
              " 'ever',\n",
              " 'discovered',\n",
              " ',',\n",
              " 'surpassing',\n",
              " 'other',\n",
              " 'stars',\n",
              " 'like',\n",
              " 'VY',\n",
              " 'Canis',\n",
              " 'Majoris',\n",
              " 'and',\n",
              " 'UY',\n",
              " 'Scuti',\n",
              " '.',\n",
              " 'Stephenson',\n",
              " '2',\n",
              " '-',\n",
              " '18',\n",
              " 'has',\n",
              " 'a',\n",
              " 'radius',\n",
              " 'of',\n",
              " '2',\n",
              " ',',\n",
              " '150',\n",
              " 'solar',\n",
              " 'radii',\n",
              " ',',\n",
              " 'being',\n",
              " 'larger',\n",
              " 'than',\n",
              " 'almost',\n",
              " 'the',\n",
              " 'entire',\n",
              " 'orbit',\n",
              " 'of',\n",
              " 'Saturn',\n",
              " '(',\n",
              " '1',\n",
              " ',',\n",
              " '940',\n",
              " '-',\n",
              " '2',\n",
              " ',',\n",
              " '169',\n",
              " 'solar',\n",
              " 'radii',\n",
              " ').']"
            ]
          },
          "execution_count": 24,
          "metadata": {},
          "output_type": "execute_result"
        }
      ],
      "source": [
        "wordpunct_tokenize (text)"
      ]
    },
    {
      "cell_type": "markdown",
      "id": "equal-kitty",
      "metadata": {
        "id": "equal-kitty"
      },
      "source": [
        "### Filteration of Text by converting into lower case"
      ]
    },
    {
      "cell_type": "code",
      "execution_count": null,
      "id": "alpha-cannon",
      "metadata": {
        "colab": {
          "base_uri": "https://localhost:8080/",
          "height": 53
        },
        "id": "alpha-cannon",
        "outputId": "4abcbd20-71d2-4866-a673-aabcd547b7f6"
      },
      "outputs": [
        {
          "data": {
            "application/vnd.google.colaboratory.intrinsic+json": {
              "type": "string"
            },
            "text/plain": [
              "'stephenson 2-18 is now known as being one of the largest, if not the current largest star ever discovered, surpassing other stars like vy canis majoris and uy scuti.\\n        stephenson 2-18 has a radius of 2,150 solar radii, being larger than almost the entire orbit of saturn (1,940 - 2,169 solar radii).'"
            ]
          },
          "execution_count": 25,
          "metadata": {},
          "output_type": "execute_result"
        }
      ],
      "source": [
        "text.lower()"
      ]
    },
    {
      "cell_type": "code",
      "execution_count": null,
      "id": "bulgarian-performer",
      "metadata": {
        "colab": {
          "base_uri": "https://localhost:8080/",
          "height": 53
        },
        "id": "bulgarian-performer",
        "outputId": "c9e4d132-c223-4a11-c92e-cbddb86d6f46"
      },
      "outputs": [
        {
          "data": {
            "application/vnd.google.colaboratory.intrinsic+json": {
              "type": "string"
            },
            "text/plain": [
              "'STEPHENSON 2-18 IS NOW KNOWN AS BEING ONE OF THE LARGEST, IF NOT THE CURRENT LARGEST STAR EVER DISCOVERED, SURPASSING OTHER STARS LIKE VY CANIS MAJORIS AND UY SCUTI.\\n        STEPHENSON 2-18 HAS A RADIUS OF 2,150 SOLAR RADII, BEING LARGER THAN ALMOST THE ENTIRE ORBIT OF SATURN (1,940 - 2,169 SOLAR RADII).'"
            ]
          },
          "execution_count": 26,
          "metadata": {},
          "output_type": "execute_result"
        }
      ],
      "source": [
        "text.upper()"
      ]
    }
  ],
  "metadata": {
    "colab": {
      "provenance": []
    },
    "kernelspec": {
      "display_name": "Python 3",
      "language": "python",
      "name": "python3"
    },
    "language_info": {
      "codemirror_mode": {
        "name": "ipython",
        "version": 3
      },
      "file_extension": ".py",
      "mimetype": "text/x-python",
      "name": "python",
      "nbconvert_exporter": "python",
      "pygments_lexer": "ipython3",
      "version": "3.7.0"
    }
  },
  "nbformat": 4,
  "nbformat_minor": 5
}
